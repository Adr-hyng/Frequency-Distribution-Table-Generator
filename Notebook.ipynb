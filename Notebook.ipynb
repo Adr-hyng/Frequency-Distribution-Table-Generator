{
 "cells": [
  {
   "cell_type": "code",
   "execution_count": 83,
   "metadata": {},
   "outputs": [],
   "source": [
    "import pandas as pd\n",
    "import numpy as np"
   ]
  },
  {
   "cell_type": "code",
   "execution_count": 172,
   "metadata": {},
   "outputs": [],
   "source": [
    "df = pd.read_excel('Data.xlsx', sheet_name='Sheet1')\n",
    "\n",
    "ds_range = (df.DATASET.max() - df.DATASET.min())\n",
    "f = df.DATASET.sum()\n",
    "dataset = df.DATASET.to_numpy()\n",
    "size = dataset[~np.isnan(dataset)].size\n",
    "interval = np.round((ds_range / (1 + 3.322 * np.log10(size))), decimals = 0)\n"
   ]
  },
  {
   "cell_type": "code",
   "execution_count": 198,
   "metadata": {},
   "outputs": [
    {
     "name": "stdout",
     "output_type": "stream",
     "text": [
      "   DATASET CLASS LIMITS CLASS BOUNDARIES  FREQUENCY  RELATIVE FREQUENCY  \\\n",
      "0     18.0         18.0              NaN        NaN                 NaN   \n",
      "1     19.0         27.0              NaN        NaN                 NaN   \n",
      "2     24.0         36.0              NaN        NaN                 NaN   \n",
      "3     27.0         45.0              NaN        NaN                 NaN   \n",
      "4     28.0         54.0              NaN        NaN                 NaN   \n",
      "5     29.0         63.0              NaN        NaN                 NaN   \n",
      "6     31.0         72.0              NaN        NaN                 NaN   \n",
      "7     34.0         80.0              NaN        NaN                 NaN   \n",
      "8     36.0          9.0              NaN        NaN                 NaN   \n",
      "9     36.0         18.0              NaN        NaN                 NaN   \n",
      "\n",
      "   PERCENTAGE  CUMMULATIVE FREQUENCY  MIDPOINTS  MEDIAN  MODE  VARIANCES  \\\n",
      "0         NaN                    NaN        NaN     NaN   NaN        NaN   \n",
      "1         NaN                    NaN        NaN     NaN   NaN        NaN   \n",
      "2         NaN                    NaN        NaN     NaN   NaN        NaN   \n",
      "3         NaN                    NaN        NaN     NaN   NaN        NaN   \n",
      "4         NaN                    NaN        NaN     NaN   NaN        NaN   \n",
      "5         NaN                    NaN        NaN     NaN   NaN        NaN   \n",
      "6         NaN                    NaN        NaN     NaN   NaN        NaN   \n",
      "7         NaN                    NaN        NaN     NaN   NaN        NaN   \n",
      "8         NaN                    NaN        NaN     NaN   NaN        NaN   \n",
      "9         NaN                    NaN        NaN     NaN   NaN        NaN   \n",
      "\n",
      "   STANDARD DEVIATION  MIDRANGE  QUARTILE  DECILE  PERCENTILE  MIDHINGE  \\\n",
      "0                 NaN       NaN       NaN     NaN         NaN       NaN   \n",
      "1                 NaN       NaN       NaN     NaN         NaN       NaN   \n",
      "2                 NaN       NaN       NaN     NaN         NaN       NaN   \n",
      "3                 NaN       NaN       NaN     NaN         NaN       NaN   \n",
      "4                 NaN       NaN       NaN     NaN         NaN       NaN   \n",
      "5                 NaN       NaN       NaN     NaN         NaN       NaN   \n",
      "6                 NaN       NaN       NaN     NaN         NaN       NaN   \n",
      "7                 NaN       NaN       NaN     NaN         NaN       NaN   \n",
      "8                 NaN       NaN       NaN     NaN         NaN       NaN   \n",
      "9                 NaN       NaN       NaN     NaN         NaN       NaN   \n",
      "\n",
      "   INTERQUARTILE RANGE  QUARTILE DEVIATION  \n",
      "0                  NaN                 NaN  \n",
      "1                  NaN                 NaN  \n",
      "2                  NaN                 NaN  \n",
      "3                  NaN                 NaN  \n",
      "4                  NaN                 NaN  \n",
      "5                  NaN                 NaN  \n",
      "6                  NaN                 NaN  \n",
      "7                  NaN                 NaN  \n",
      "8                  NaN                 NaN  \n",
      "9                  NaN                 NaN  \n"
     ]
    }
   ],
   "source": [
    "df[\"CLASS LIMITS\"][0] = df[\"DATASET\"][0]\n",
    "for i in range(1, 10):\n",
    "    lower_limits = df[\"CLASS LIMITS\"][i - 1] + interval\n",
    "    if (round(lower_limits,-1) == round(df.DATASET.max(), -1)):\n",
    "        df[\"CLASS LIMITS\"][i] = round(df.DATASET.max(),-1)\n",
    "        break\n",
    "    df[\"CLASS LIMITS\"][i] = lower_limits\n",
    "print(df.head(10))"
   ]
  }
 ],
 "metadata": {
  "kernelspec": {
   "display_name": "Python 3.9.0 64-bit",
   "language": "python",
   "name": "python3"
  },
  "language_info": {
   "codemirror_mode": {
    "name": "ipython",
    "version": 3
   },
   "file_extension": ".py",
   "mimetype": "text/x-python",
   "name": "python",
   "nbconvert_exporter": "python",
   "pygments_lexer": "ipython3",
   "version": "3.9.0"
  },
  "orig_nbformat": 4,
  "vscode": {
   "interpreter": {
    "hash": "059bddb0784d00ee3f7da337261b54610984a8c3bd5cf6316d98da9ad69b7922"
   }
  }
 },
 "nbformat": 4,
 "nbformat_minor": 2
}
